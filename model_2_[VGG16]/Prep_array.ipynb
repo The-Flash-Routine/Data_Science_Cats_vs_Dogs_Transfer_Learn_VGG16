{
 "cells": [
  {
   "cell_type": "code",
   "execution_count": 13,
   "metadata": {},
   "outputs": [],
   "source": [
    "import numpy as np\n",
    "import cv2\n",
    "from IPython.display import clear_output"
   ]
  },
  {
   "cell_type": "code",
   "execution_count": 15,
   "metadata": {},
   "outputs": [],
   "source": [
    "xtrain_cat=[]\n",
    "xtrain_dog=[]\n",
    "xtest=[]\n",
    "ytest=[]\n",
    "xval=[]\n",
    "yval=[]\n",
    "imagedim=50"
   ]
  },
  {
   "cell_type": "markdown",
   "metadata": {},
   "source": [
    "Original dataset has 12500 images of cats and 12500 images of dogs and 12500 imgaes for test\n",
    "\n",
    "But for ease of training i'll be using 1000 images of cats,1000 images of doga and 400 test images\n",
    "\n",
    "Both test and train images i will be picking from training set....\n",
    "like first 1000 cat images for training and next 200  cat images(from 1001 to 1200) for testing\n",
    "\n",
    "And similar with dogs\n",
    "\n",
    "Picking validation set with same procedure"
   ]
  },
  {
   "cell_type": "code",
   "execution_count": 16,
   "metadata": {},
   "outputs": [
    {
     "name": "stdout",
     "output_type": "stream",
     "text": [
      "901\n"
     ]
    }
   ],
   "source": [
    "for i in range(0,1000):\n",
    "    filename=\"C:/Users/Ritik/Desktop/Projects_Flash/Cats vs Dogs/train/cat.%d.jpg\"%(i)\n",
    "    img=cv2.imread(filename)\n",
    "    img=cv2.resize(img,(imagedim,imagedim))\n",
    "    xtrain_cat.append(img)\n",
    "    filename=\"C:/Users/Ritik/Desktop/Projects_Flash/Cats vs Dogs/train/dog.%d.jpg\"%(i)\n",
    "    img=cv2.imread(filename)\n",
    "    img=cv2.resize(img,(imagedim,imagedim))\n",
    "    xtrain_dog.append(img)\n",
    "    if i%100==0:\n",
    "      clear_output()\n",
    "      print(i+1)\n",
    "      \n",
    "    "
   ]
  },
  {
   "cell_type": "code",
   "execution_count": 17,
   "metadata": {},
   "outputs": [
    {
     "name": "stdout",
     "output_type": "stream",
     "text": [
      "(1000, 50, 50, 3)\n",
      "(1000, 50, 50, 3)\n"
     ]
    }
   ],
   "source": [
    "xtrain_cat=np.array(xtrain_cat)\n",
    "xtrain_dog=np.array(xtrain_dog)\n",
    "print(xtrain_dog.shape)\n",
    "print(xtrain_cat.shape)"
   ]
  },
  {
   "cell_type": "code",
   "execution_count": 18,
   "metadata": {},
   "outputs": [
    {
     "name": "stdout",
     "output_type": "stream",
     "text": [
      "1101\n"
     ]
    }
   ],
   "source": [
    "for i in range(1000,1200):\n",
    "    filename=\"C:/Users/Ritik/Desktop/Projects_Flash/Cats vs Dogs/train/cat.%d.jpg\"%(i)\n",
    "    img=cv2.imread(filename)\n",
    "    img=cv2.resize(img,(imagedim,imagedim))\n",
    "    xtest.append(img)\n",
    "    ytest.append(0)\n",
    "    filename=\"C:/Users/Ritik/Desktop/Projects_Flash/Cats vs Dogs/train/dog.%d.jpg\"%(i)\n",
    "    img=cv2.imread(filename)\n",
    "    img=cv2.resize(img,(imagedim,imagedim))\n",
    "    xtest.append(img)\n",
    "    ytest.append(1)\n",
    "    if i%100==0:\n",
    "      clear_output()\n",
    "      print(i+1)"
   ]
  },
  {
   "cell_type": "code",
   "execution_count": 19,
   "metadata": {},
   "outputs": [
    {
     "name": "stdout",
     "output_type": "stream",
     "text": [
      "(400, 50, 50, 3)\n",
      "(400, 1)\n"
     ]
    }
   ],
   "source": [
    "xtest=np.array(xtest)\n",
    "print(xtest.shape)\n",
    "ytest=np.array(ytest).reshape(-1,1)\n",
    "print(ytest.shape)"
   ]
  },
  {
   "cell_type": "code",
   "execution_count": 20,
   "metadata": {},
   "outputs": [
    {
     "name": "stdout",
     "output_type": "stream",
     "text": [
      "1301\n"
     ]
    }
   ],
   "source": [
    "for i in range(1200,1400):\n",
    "    filename=\"C:/Users/Ritik/Desktop/Projects_Flash/Cats vs Dogs/train/cat.%d.jpg\"%(i)\n",
    "    img=cv2.imread(filename)\n",
    "    img=cv2.resize(img,(imagedim,imagedim))\n",
    "    xval.append(img)\n",
    "    yval.append(0)\n",
    "    filename=\"C:/Users/Ritik/Desktop/Projects_Flash/Cats vs Dogs/train/dog.%d.jpg\"%(i)\n",
    "    img=cv2.imread(filename)\n",
    "    img=cv2.resize(img,(imagedim,imagedim))\n",
    "    xval.append(img)\n",
    "    yval.append(1)\n",
    "    if i%100==0:\n",
    "      clear_output()\n",
    "      print(i+1)"
   ]
  },
  {
   "cell_type": "code",
   "execution_count": 21,
   "metadata": {},
   "outputs": [
    {
     "name": "stdout",
     "output_type": "stream",
     "text": [
      "(400, 50, 50, 3)\n",
      "(400, 1)\n"
     ]
    }
   ],
   "source": [
    "xval=np.array(xval)\n",
    "print(xval.shape)\n",
    "yval=np.array(yval).reshape(-1,1)\n",
    "print(yval.shape)"
   ]
  },
  {
   "cell_type": "code",
   "execution_count": 22,
   "metadata": {},
   "outputs": [
    {
     "name": "stdout",
     "output_type": "stream",
     "text": [
      "(2000, 50, 50, 3)\n"
     ]
    }
   ],
   "source": [
    "xtrain=np.vstack((xtrain_cat,xtrain_dog))\n",
    "print(xtrain.shape)"
   ]
  },
  {
   "cell_type": "code",
   "execution_count": 23,
   "metadata": {},
   "outputs": [
    {
     "name": "stdout",
     "output_type": "stream",
     "text": [
      "(2000, 1)\n"
     ]
    }
   ],
   "source": [
    "ytrain=np.vstack((np.zeros(1000).reshape(-1,1),np.ones(1000).reshape(-1,1)))\n",
    "print(ytrain.shape)"
   ]
  },
  {
   "cell_type": "code",
   "execution_count": 24,
   "metadata": {},
   "outputs": [],
   "source": [
    "xtrain=xtrain/255\n",
    "xtest=xtest/255"
   ]
  },
  {
   "cell_type": "code",
   "execution_count": 25,
   "metadata": {},
   "outputs": [],
   "source": [
    "xval=xval/255"
   ]
  },
  {
   "cell_type": "code",
   "execution_count": 26,
   "metadata": {},
   "outputs": [
    {
     "name": "stdout",
     "output_type": "stream",
     "text": [
      "(2000, 50, 50, 3)\n",
      "(2000, 1)\n"
     ]
    }
   ],
   "source": [
    "a=np.arange(0,2000)\n",
    "np.random.shuffle(a)\n",
    "xtrain_new=[]\n",
    "ytrain_new=[]\n",
    "for i in a:\n",
    "    xtrain_new.append(xtrain[i,:,:,:])\n",
    "    ytrain_new.append(ytrain[i])\n",
    "xtrain_new=np.array(xtrain_new)\n",
    "ytrain_new=np.array(ytrain_new).reshape(-1,1)\n",
    "print(xtrain_new.shape)\n",
    "print(ytrain_new.shape)"
   ]
  },
  {
   "cell_type": "code",
   "execution_count": 27,
   "metadata": {},
   "outputs": [],
   "source": [
    "np.save(\"xtrain[50x50x3]\",xtrain_new)\n",
    "np.save(\"ytrain[50x50x3]\",ytrain_new)\n",
    "np.save(\"xtest[50x50x3]\",xtest)\n",
    "np.save(\"ytest[50x50x3]\",ytest)\n",
    "np.save(\"xval[50x50x3]\",xval)\n",
    "np.save(\"yval[50x50x3]\",yval)"
   ]
  },
  {
   "cell_type": "code",
   "execution_count": null,
   "metadata": {},
   "outputs": [],
   "source": []
  }
 ],
 "metadata": {
  "kernelspec": {
   "display_name": "Python 3",
   "language": "python",
   "name": "python3"
  },
  "language_info": {
   "codemirror_mode": {
    "name": "ipython",
    "version": 3
   },
   "file_extension": ".py",
   "mimetype": "text/x-python",
   "name": "python",
   "nbconvert_exporter": "python",
   "pygments_lexer": "ipython3",
   "version": "3.6.4"
  }
 },
 "nbformat": 4,
 "nbformat_minor": 2
}
